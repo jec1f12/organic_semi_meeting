{
 "metadata": {
  "celltoolbar": "Slideshow",
  "name": "",
  "signature": "sha256:e50f6621dca3dd4b5eaa6824a67a4412a4d94ff2a8a621e4024030cc21803bf9"
 },
 "nbformat": 3,
 "nbformat_minor": 0,
 "worksheets": [
  {
   "cells": [
    {
     "cell_type": "markdown",
     "metadata": {
      "slideshow": {
       "slide_type": "slide"
      }
     },
     "source": [
      "#Organic Semiconductors \n",
      "\n",
      "<img src=\"gattaca_good.jpg\" style=\"width: 600px;\" />\n",
      "\n",
      "###Josh Campbell\n",
      "###21/10/15"
     ]
    },
    {
     "cell_type": "markdown",
     "metadata": {
      "slideshow": {
       "slide_type": "slide"
      }
     },
     "source": [
      "##Some organic semiconductor theory\n",
      "\n",
      "##Genetic algorithm updates"
     ]
    },
    {
     "cell_type": "markdown",
     "metadata": {
      "slideshow": {
       "slide_type": "slide"
      }
     },
     "source": [
      "##Recap\n",
      "\n",
      "<img src=\"pent.png\" style=\"width: 400px;\" />\n",
      "\n",
      "Pentacene as a organic semiconductor has both positive and negative points:"
     ]
    },
    {
     "cell_type": "markdown",
     "metadata": {
      "slideshow": {
       "slide_type": "fragment"
      }
     },
     "source": [
      "**Good:**\n",
      "\n",
      "Low reorganisation energy\n",
      "\n",
      "Well studied\n",
      "\n",
      "High mobility in pure samples"
     ]
    },
    {
     "cell_type": "markdown",
     "metadata": {
      "slideshow": {
       "slide_type": "subslide"
      }
     },
     "source": [
      "##Charge carrier mobility\n",
      "\n",
      "The performance of any organic device depends on the mobility of the charge carriers. Charge carrier mobility in transistors determines how fast the device can be turned on and off.\n",
      "\n",
      "Charge carrier mobility is the speed (cm/s) at which the charge carriers move in the material in a given direction, in the presence of an applied electric field (V/cm):\n",
      "\n",
      "<img src=\"cc_mob.png\" style=\"width: 100px;\" />\n",
      "\n",
      "For OS to be competitive with amorphous silicon they must approach \u03bc of 1 cm2/Vs. 1 cm2/Vs is also a borderline value between the band regime and the hopping regime.\n"
     ]
    },
    {
     "cell_type": "markdown",
     "metadata": {
      "slideshow": {
       "slide_type": "subslide"
      }
     },
     "source": [
      "##Band vs Hopping \n",
      "\n",
      "\n",
      "| Band regime        | Hopping regime |\n",
      "| :-------------: |:-------------:|\n",
      "| delocalization of the charge carrier wave functions | localization of the charge carrier wave functions  |\n",
      "| coherent transport | incoherent hops |\n",
      "| electronic coupling            | electron-phonon coupling leading to geometry relaxations |\n",
      "\n",
      "In order to achieve a band regime (which has the largest carrier mobility) you must have a highly ordered structure or single crystal with few impurities. Low temperature is required because increased molecular vibrations in adjacent molecules will damage their coupling."
     ]
    },
    {
     "cell_type": "markdown",
     "metadata": {
      "slideshow": {
       "slide_type": "subslide"
      }
     },
     "source": [
      "##Evidence of regimes\n",
      "\n",
      "###Time\n",
      "<img src=\"time_dom.png\" style=\"width: 250px;\" />\n",
      "\n",
      "The wider the bandwidth the larger the electronic coupling between adjacent units.\n",
      "If W, the conduction/valence bandwith is large enough (.2-.3 eV) then \u03c4 is shorter than 10^-13s and this means band transport is possible.\n",
      "This is because the carrier will not \u201csit\u201d long enough on any single molecule for that molecule to have time to geometrically relax (relaxaton for C-C requires 20 ms) thus making band transport possible.\n",
      "\n",
      "<img src=\"tight_binding.png\" style=\"width: 100px;\" />\n",
      "\n",
      "t is the electronic coupling between adjacent sites or adjacent repeating units. T can also be called the transfer integral or the resonance integral \u0392(in H\u00fcckel terminology)"
     ]
    },
    {
     "cell_type": "markdown",
     "metadata": {
      "slideshow": {
       "slide_type": "fragment"
      }
     },
     "source": [
      "###Energy\n",
      "\n",
      "The charge carrier can fully delocalize along the system in which case there is no geometry relaxation and the energy gained by electronic coupling and charge carrier delocalization is larger than the energy gained by electron-phonon coupling. In delocalization \u03c0 electrons from several isolated orbitals contribute to form a filled lower energy valence band and an empty higher energy conduction band.\n",
      "\n",
      "If the energy gained by electron-phonon coupling (geometry relaxations around the charge) is larger than the energy gained by delocalisation, the hopping regime is favoured. "
     ]
    },
    {
     "cell_type": "markdown",
     "metadata": {
      "slideshow": {
       "slide_type": "subslide"
      }
     },
     "source": [
      "##Electronic coupling \n",
      "\n",
      "Electronic coupling is the parameter to be maximised in both transport regimes. Electronic coupling is the most important factor in band regimes and one of several defining factors in the hopping regime. "
     ]
    },
    {
     "cell_type": "markdown",
     "metadata": {
      "slideshow": {
       "slide_type": "subslide"
      }
     },
     "source": [
      "###Influence of intermolecular distance \n",
      "\n",
      "<img src=\"intermol_dist.png\" style=\"width: 600px;\" />\n",
      "\n",
      "As the molecules come closer together their wave function overlap grows exponentially. In the typical solid state intermolecular distances of 3.4 - 3.8 \u00c5 given a perfectly symmetrical, cofacial arrangement, there is splitting on the order of several tenths of an eV meaning a bandgap on the order of 1 eV"
     ]
    },
    {
     "cell_type": "markdown",
     "metadata": {
      "slideshow": {
       "slide_type": "subslide"
      }
     },
     "source": [
      "###Influence of lateral displacements\n",
      "\n",
      "<img src=\"lateral_disp.png\" style=\"width: 600px;\" />\n",
      "\n",
      "The HOMO and LUMO have pronounced oscillations with increasing displacement. As molecules displace against each other there will be large variations in the overlap, and therefore changes in the electronic coupling. The HOMO and LUMO patterns are completely different and depend on their bonding and antibonding patterns."
     ]
    },
    {
     "cell_type": "markdown",
     "metadata": {
      "slideshow": {
       "slide_type": "subslide"
      }
     },
     "source": [
      "###Influence of lateral displacement along the short axis\n",
      "\n",
      "<img src=\"lateral_disp.png\" style=\"width: 600px;\" />\n",
      "\n",
      "The wave function overlap is what matters, NOT the spatial overlap. The bonding-antibonding pattern of the HOMO or LUMO wave function is the critical factor. Anything that can disturb the overlap can have a large effect on the mobility. "
     ]
    },
    {
     "cell_type": "markdown",
     "metadata": {
      "slideshow": {
       "slide_type": "subslide"
      }
     },
     "source": [
      "##What happens when the coupling is too small?\n",
      "\n",
      "In this case the charge carriers become localized and there is polaron formation, leading to geometry relaxation. This is the hopping regime, which can be characterised with Marcus Theory. \n",
      "\n",
      "<img src=\"charge_hop.png\" style=\"width: 600px;\" />\n",
      "\n",
      "In addition to intramolecular relaxation there is also intermolecular relaxation. The distance between a neutral molecule and ionized molecule is larger because the electron density of the ionized molecule is larger.This means the hop of the electron is coupled to intermolecular relaxation too. \n"
     ]
    },
    {
     "cell_type": "markdown",
     "metadata": {
      "slideshow": {
       "slide_type": "subslide"
      }
     },
     "source": [
      "##Intramolecular reorganisation energy\n",
      "\n",
      "Intramolecular reorganisation energy is the energy cost due to geometry modifications to go from a neutral to a charged molecule and vice versa. It is one of the key characteristics that control charge mobility in organic electronics.\n",
      "\n",
      "The lower the reorganization energy term is, the smaller the geometry relaxations and the higher the electron transfer rate. If the geometry of the initial molecule (ionised) and the geometry of the final molecule (neutral) are very similar then there can be electron transfer without having to wait for vibrations.\n",
      "\n",
      "Usually the reorganisation energy decreases with the increase in size of the molecule."
     ]
    },
    {
     "cell_type": "markdown",
     "metadata": {
      "slideshow": {
       "slide_type": "subslide"
      }
     },
     "source": [
      "##Electron-phonon coupling\n",
      "\n",
      "Understanding the effects of intra and intermolecular modes on coupling and site energies allows progress to be made past the classical Marcus Theory. Some modes will have no impact, some will be significant. In moving to an ionized state there will be a strong geometry relaxation so there will be a strong coupling to the vibrational modes that lead to the ionized state. "
     ]
    },
    {
     "cell_type": "markdown",
     "metadata": {
      "slideshow": {
       "slide_type": "fragment"
      }
     },
     "source": [
      "###Local electron-phonon coupling\n",
      "\n",
      "Local electron-phonon coupling is the impact of vibrations from molecular relaxations (intra-molecular modes) on site energy. There will be an impact from the polarization (intramolecular modes) as well librations (translations and rotations of molecule as whole) in intermolecular modes. The local electron-phonon coupling can be very significant due to intramolecular geometry relaxations."
     ]
    },
    {
     "cell_type": "markdown",
     "metadata": {
      "slideshow": {
       "slide_type": "fragment"
      }
     },
     "source": [
      "###Non-local electron-phonon coupling\n",
      "\n",
      "Non local electron-phonon coupling is mostly a functon of intermolecular modes. Nonlocal electron-phonon coupling is large. This does not depend very much on the intermolecular geometry. "
     ]
    },
    {
     "cell_type": "markdown",
     "metadata": {
      "slideshow": {
       "slide_type": "slide"
      }
     },
     "source": [
      "###Actual work...\n",
      "\n",
      "Genetic algorithm improvements!\n",
      "\n",
      "-Big rewrite of code almost finished. Some tests implemented. Functionality to use LUMO energies as fitness measure (no runs done so far though)."
     ]
    },
    {
     "cell_type": "markdown",
     "metadata": {
      "slideshow": {
       "slide_type": "fragment"
      }
     },
     "source": [
      "<img src=\"evo_sex.png\" style=\"width: 500px;\" />\n"
     ]
    },
    {
     "cell_type": "markdown",
     "metadata": {
      "slideshow": {
       "slide_type": "slide"
      }
     },
     "source": [
      "###A&Qs\n",
      "\n",
      "Thanks to all in the Day group \n",
      "\n",
      "Questions?\n",
      "\n"
     ]
    },
    {
     "cell_type": "code",
     "collapsed": false,
     "input": [],
     "language": "python",
     "metadata": {},
     "outputs": []
    }
   ],
   "metadata": {}
  }
 ]
}